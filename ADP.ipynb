{
  "nbformat": 4,
  "nbformat_minor": 0,
  "metadata": {
    "colab": {
      "name": "ADP.ipynb",
      "provenance": []
    },
    "kernelspec": {
      "name": "python3",
      "display_name": "Python 3"
    },
    "language_info": {
      "name": "python"
    }
  },
  "cells": [
    {
      "cell_type": "code",
      "metadata": {
        "id": "xAmcCKLFhMoi"
      },
      "source": [
        "record = {'6001': {'name': 'Sunflroil', 'pr': 140, 'qn': 35, 'rt': 7},'6002': {'name': 'Almond', 'pr': 150, 'qn': 65, 'rt': 5},'6003': {'name': 'Basmati', 'pr': 210, 'qn': 50, 'rt': 9},'6004': {'name': 'Cardomom', 'pr': 600, 'qn': 15, 'rt': 6},'6005': {'name': 'Cashewnet', 'pr': 120, 'qn': 27, 'rt': 5},'6006': {'name': 'castor oil', 'pr': 220, 'qn': 10, 'rt': 5},'6007': {'name': 'Chilli powder', 'pr': 70, 'qn': 7, 'rt': 6}, '6008': {'name': 'Cocunut oil', 'pr': 305, 'qn': 7, 'rt': 8}, '6009': {'name': 'Corn flour', 'pr': 34, 'qn': 10, 'rt': 8}, '6010': {'name': 'Cumin', 'pr': 50, 'qn': 33, 'rt': 7}, '6011': {'name': 'Cumin powder', 'pr': 60, 'qn': 20, 'rt': 6}, '6012': {'name': 'Ginger paste', 'pr': 22, 'qn': 122, 'rt': 7}, '6013': {'name': 'Groundnut', 'pr': 75, 'qn': 43, 'rt': 7}, '6014': {'name': 'Honey', 'pr': 99, 'qn': 17, 'rt': 8}, '6015': {'name': 'Jaggery', 'pr': 70, 'qn': 22, 'rt': 7}, '6016': {'name': 'Karuppati', 'pr': 275, 'qn': 30, 'rt': 8}, '6017': {'name': 'Rice flour', 'pr': 75, 'qn': 44, 'rt': 8}, '6018': {'name': 'salt', 'pr': 20, 'qn': 70, 'rt': 7}, '6019': {'name': 'Sugar', 'pr': 46, 'qn': 69, 'rt': 7}, '6020': {'name': 'Tamarind', 'pr': 150, 'qn': 61, 'rt': 8}, '6021': {'name': 'Tamarind powder', 'pr': 25, 'qn': 38, 'rt': 7},'6022': {'name': 'Wheat atta', 'pr': 57, 'qn': 28, 'rt': 8}, '6023': {'name': 'Tamarind paste ', 'pr': 46, 'qn': 12, 'rt': 8}, '6024': {'name': 'Raagi', 'pr': 100, 'qn': 30, 'rt': 8}, '6025': {'name': 'Sambar powder', 'pr': 50, 'qn': 100, 'rt': 9}, '6026': {'name': 'Rasam powder', 'pr': 46, 'qn': 27, 'rt': 8}, '6027': {'name': 'Moong Dal ', 'pr': 185, 'qn': 21, 'rt': 8}, '6028': {'name': 'Idly rice ', 'pr': 85, 'qn': 66, 'rt': 8}, '6029': {'name': 'garam masala ', 'pr': 85, 'qn': 22, 'rt': 8}, '6030': {'name': 'Clove', 'pr': 85, 'qn': 16, 'rt': 7}}"
      ],
      "execution_count": 13,
      "outputs": []
    },
    {
      "cell_type": "code",
      "metadata": {
        "id": "5hvKJqC0gEVz"
      },
      "source": [
        "import json\n",
        "js = json.dumps(record)\n",
        "fd = open(\"record.json\",'r')\n",
        "r = fd.read()\n",
        "fd.close()\n"
      ],
      "execution_count": 16,
      "outputs": []
    },
    {
      "cell_type": "code",
      "metadata": {
        "colab": {
          "base_uri": "https://localhost:8080/"
        },
        "id": "aBzjuNOTiCyb",
        "outputId": "055c4c34-80fa-4e62-c14a-0d5ab4800e33"
      },
      "source": [
        "record"
      ],
      "execution_count": 20,
      "outputs": [
        {
          "output_type": "execute_result",
          "data": {
            "text/plain": [
              "{'6001': {'name': 'Sunflroil', 'pr': 140, 'qn': 35, 'rt': 7},\n",
              " '6002': {'name': 'Almond', 'pr': 150, 'qn': 65, 'rt': 5},\n",
              " '6003': {'name': 'Basmati', 'pr': 210, 'qn': 50, 'rt': 9},\n",
              " '6004': {'name': 'Cardomom', 'pr': 600, 'qn': 15, 'rt': 6},\n",
              " '6005': {'name': 'Cashewnet', 'pr': 120, 'qn': 27, 'rt': 5},\n",
              " '6006': {'name': 'castor oil', 'pr': 220, 'qn': 10, 'rt': 5},\n",
              " '6007': {'name': 'Chilli powder', 'pr': 70, 'qn': 7, 'rt': 6},\n",
              " '6008': {'name': 'Cocunut oil', 'pr': 305, 'qn': 7, 'rt': 8},\n",
              " '6009': {'name': 'Corn flour', 'pr': 34, 'qn': 10, 'rt': 8},\n",
              " '6010': {'name': 'Cumin', 'pr': 50, 'qn': 33, 'rt': 7},\n",
              " '6011': {'name': 'Cumin powder', 'pr': 60, 'qn': 20, 'rt': 6},\n",
              " '6012': {'name': 'Ginger paste', 'pr': 22, 'qn': 122, 'rt': 7},\n",
              " '6013': {'name': 'Groundnut', 'pr': 75, 'qn': 43, 'rt': 7},\n",
              " '6014': {'name': 'Honey', 'pr': 99, 'qn': 17, 'rt': 8},\n",
              " '6015': {'name': 'Jaggery', 'pr': 70, 'qn': 22, 'rt': 7},\n",
              " '6016': {'name': 'Karuppati', 'pr': 275, 'qn': 30, 'rt': 8},\n",
              " '6017': {'name': 'Rice flour', 'pr': 75, 'qn': 44, 'rt': 8},\n",
              " '6018': {'name': 'salt', 'pr': 20, 'qn': 70, 'rt': 7},\n",
              " '6019': {'name': 'Sugar', 'pr': 46, 'qn': 69, 'rt': 7},\n",
              " '6020': {'name': 'Tamarind', 'pr': 150, 'qn': 61, 'rt': 8},\n",
              " '6021': {'name': 'Tamarind powder', 'pr': 25, 'qn': 38, 'rt': 7},\n",
              " '6022': {'name': 'Wheat atta', 'pr': 57, 'qn': 28, 'rt': 8},\n",
              " '6023': {'name': 'Tamarind paste ', 'pr': 46, 'qn': 12, 'rt': 8},\n",
              " '6024': {'name': 'Raagi', 'pr': 100, 'qn': 30, 'rt': 8},\n",
              " '6025': {'name': 'Sambar powder', 'pr': 50, 'qn': 100, 'rt': 9},\n",
              " '6026': {'name': 'Rasam powder', 'pr': 46, 'qn': 27, 'rt': 8},\n",
              " '6027': {'name': 'Moong Dal ', 'pr': 185, 'qn': 21, 'rt': 8},\n",
              " '6028': {'name': 'Idly rice ', 'pr': 85, 'qn': 66, 'rt': 8},\n",
              " '6029': {'name': 'garam masala ', 'pr': 85, 'qn': 22, 'rt': 8},\n",
              " '6030': {'name': 'clove', 'pr': 80, 'qn': 15, 'rt': 8}}"
            ]
          },
          "metadata": {},
          "execution_count": 20
        }
      ]
    },
    {
      "cell_type": "code",
      "metadata": {
        "colab": {
          "base_uri": "https://localhost:8080/"
        },
        "id": "oDnqeeRAiGHH",
        "outputId": "aa3cd5c2-1e3c-4bd8-e2d7-8f5e82fe18ef"
      },
      "source": [
        "prod_id = str(input(\"Enter product id:\"))\n",
        "name = str(input(\"Enter name:\"))\n",
        "pr = int(input(\"Enter price:\"))\n",
        "qn = int(input(\"Enter quantity:\"))\n",
        "rt = int(input(\"Enter rating:\"))\n",
        "\n",
        "record[prod_id] = {'name': name, 'pr': pr, 'qn': qn, 'rt':rt}\n",
        "\n",
        "js = json.dumps(record)\n",
        "\n",
        "fd = open(\"record.json\",'w')\n",
        "fd.write(js)\n",
        "fd.close()"
      ],
      "execution_count": 19,
      "outputs": [
        {
          "name": "stdout",
          "output_type": "stream",
          "text": [
            "Enter product id:6030\n",
            "Enter name:clove\n",
            "Enter price:80\n",
            "Enter quantity:15\n",
            "Enter rating:8\n"
          ]
        }
      ]
    }
  ]
}