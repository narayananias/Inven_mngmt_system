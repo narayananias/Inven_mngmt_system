{
  "nbformat": 4,
  "nbformat_minor": 0,
  "metadata": {
    "colab": {
      "name": "ADP_IMS.ipynb",
      "provenance": [],
      "collapsed_sections": []
    },
    "kernelspec": {
      "name": "python3",
      "display_name": "Python 3"
    },
    "language_info": {
      "name": "python"
    }
  },
  "cells": [
    {
      "cell_type": "markdown",
      "metadata": {
        "id": "3Lc3eWKimQ3L"
      },
      "source": [
        "**READ INVENTORY** \n"
      ]
    },
    {
      "cell_type": "code",
      "metadata": {
        "id": "FHUb6RqlmtHc"
      },
      "source": [
        "record = {'6001': {'name': 'Sunflroil', 'pr': 140, 'qn': 35, 'rt': 7},'6002': {'name': 'Almond', 'pr': 150, 'qn': 65, 'rt': 5},'6003': {'name': 'Basmati', 'pr': 210, 'qn': 50, 'rt': 9},'6004': {'name': 'Cardomom', 'pr': 600, 'qn': 15, 'rt': 6},'6005': {'name': 'Cashewnet', 'pr': 120, 'qn': 27, 'rt': 5},'6006': {'name': 'castor oil', 'pr': 220, 'qn': 10, 'rt': 5},'6007': {'name': 'Chilli powder', 'pr': 70, 'qn': 7, 'rt': 6}, '6008': {'name': 'Cocunut oil', 'pr': 305, 'qn': 7, 'rt': 8}, '6009': {'name': 'Corn flour', 'pr': 34, 'qn': 10, 'rt': 8}, '6010': {'name': 'Cumin', 'pr': 50, 'qn': 33, 'rt': 7}, '6011': {'name': 'Cumin powder', 'pr': 60, 'qn': 20, 'rt': 6}, '6012': {'name': 'Ginger paste', 'pr': 22, 'qn': 122, 'rt': 7}, '6013': {'name': 'Groundnut', 'pr': 75, 'qn': 43, 'rt': 7}, '6014': {'name': 'Honey', 'pr': 99, 'qn': 17, 'rt': 8}, '6015': {'name': 'Jaggery', 'pr': 70, 'qn': 22, 'rt': 7}, '6016': {'name': 'Karuppati', 'pr': 275, 'qn': 30, 'rt': 8}, '6017': {'name': 'Rice flour', 'pr': 75, 'qn': 44, 'rt': 8}, '6018': {'name': 'salt', 'pr': 20, 'qn': 70, 'rt': 7}, '6019': {'name': 'Sugar', 'pr': 46, 'qn': 69, 'rt': 7}, '6020': {'name': 'Tamarind', 'pr': 150, 'qn': 61, 'rt': 8}, '6021': {'name': 'Tamarind powder', 'pr': 25, 'qn': 38, 'rt': 7},'6022': {'name': 'Wheat atta', 'pr': 57, 'qn': 28, 'rt': 8}, '6023': {'name': 'Tamarind paste ', 'pr': 46, 'qn': 12, 'rt': 8}, '6024': {'name': 'Raagi', 'pr': 100, 'qn': 30, 'rt': 8}, '6025': {'name': 'Sambar powder', 'pr': 50, 'qn': 100, 'rt': 9}, '6026': {'name': 'Rasam powder', 'pr': 46, 'qn': 27, 'rt': 8}, '6027': {'name': 'Moong Dal ', 'pr': 185, 'qn': 21, 'rt': 8}, '6028': {'name': 'Idly rice ', 'pr': 85, 'qn': 66, 'rt': 8}, '6029': {'name': 'garam masala ', 'pr': 85, 'qn': 22, 'rt': 8}, '6030': {'name': 'Clove', 'pr': 85, 'qn': 16, 'rt': 7}}"
      ],
      "execution_count": 43,
      "outputs": []
    },
    {
      "cell_type": "code",
      "metadata": {
        "id": "5SBD2nvGmYe1"
      },
      "source": [
        "import json\n",
        "\n",
        "fd = open(\"record.json\",'r')\n",
        "r = fd.read()\n",
        "fd.close()\n",
        "\n"
      ],
      "execution_count": 44,
      "outputs": []
    },
    {
      "cell_type": "code",
      "metadata": {
        "colab": {
          "base_uri": "https://localhost:8080/"
        },
        "id": "fjjNSUXwmlmT",
        "outputId": "2d964e87-bce9-4a9c-f4c7-d1a89cc6bf33"
      },
      "source": [
        "record"
      ],
      "execution_count": 45,
      "outputs": [
        {
          "output_type": "execute_result",
          "data": {
            "text/plain": [
              "{'6001': {'name': 'Sunflroil', 'pr': 140, 'qn': 35, 'rt': 7},\n",
              " '6002': {'name': 'Almond', 'pr': 150, 'qn': 65, 'rt': 5},\n",
              " '6003': {'name': 'Basmati', 'pr': 210, 'qn': 50, 'rt': 9},\n",
              " '6004': {'name': 'Cardomom', 'pr': 600, 'qn': 15, 'rt': 6},\n",
              " '6005': {'name': 'Cashewnet', 'pr': 120, 'qn': 27, 'rt': 5},\n",
              " '6006': {'name': 'castor oil', 'pr': 220, 'qn': 10, 'rt': 5},\n",
              " '6007': {'name': 'Chilli powder', 'pr': 70, 'qn': 7, 'rt': 6},\n",
              " '6008': {'name': 'Cocunut oil', 'pr': 305, 'qn': 7, 'rt': 8},\n",
              " '6009': {'name': 'Corn flour', 'pr': 34, 'qn': 10, 'rt': 8},\n",
              " '6010': {'name': 'Cumin', 'pr': 50, 'qn': 33, 'rt': 7},\n",
              " '6011': {'name': 'Cumin powder', 'pr': 60, 'qn': 20, 'rt': 6},\n",
              " '6012': {'name': 'Ginger paste', 'pr': 22, 'qn': 122, 'rt': 7},\n",
              " '6013': {'name': 'Groundnut', 'pr': 75, 'qn': 43, 'rt': 7},\n",
              " '6014': {'name': 'Honey', 'pr': 99, 'qn': 17, 'rt': 8},\n",
              " '6015': {'name': 'Jaggery', 'pr': 70, 'qn': 22, 'rt': 7},\n",
              " '6016': {'name': 'Karuppati', 'pr': 275, 'qn': 30, 'rt': 8},\n",
              " '6017': {'name': 'Rice flour', 'pr': 75, 'qn': 44, 'rt': 8},\n",
              " '6018': {'name': 'salt', 'pr': 20, 'qn': 70, 'rt': 7},\n",
              " '6019': {'name': 'Sugar', 'pr': 46, 'qn': 69, 'rt': 7},\n",
              " '6020': {'name': 'Tamarind', 'pr': 150, 'qn': 61, 'rt': 8},\n",
              " '6021': {'name': 'Tamarind powder', 'pr': 25, 'qn': 38, 'rt': 7},\n",
              " '6022': {'name': 'Wheat atta', 'pr': 57, 'qn': 28, 'rt': 8},\n",
              " '6023': {'name': 'Tamarind paste ', 'pr': 46, 'qn': 12, 'rt': 8},\n",
              " '6024': {'name': 'Raagi', 'pr': 100, 'qn': 30, 'rt': 8},\n",
              " '6025': {'name': 'Sambar powder', 'pr': 50, 'qn': 100, 'rt': 9},\n",
              " '6026': {'name': 'Rasam powder', 'pr': 46, 'qn': 27, 'rt': 8},\n",
              " '6027': {'name': 'Moong Dal ', 'pr': 185, 'qn': 21, 'rt': 8},\n",
              " '6028': {'name': 'Idly rice ', 'pr': 85, 'qn': 66, 'rt': 8},\n",
              " '6029': {'name': 'garam masala ', 'pr': 85, 'qn': 22, 'rt': 8},\n",
              " '6030': {'name': 'Clove', 'pr': 85, 'qn': 16, 'rt': 7}}"
            ]
          },
          "metadata": {},
          "execution_count": 45
        }
      ]
    },
    {
      "cell_type": "markdown",
      "metadata": {
        "id": "T1HxU7b3m6uS"
      },
      "source": [
        "###PURCHASE\n"
      ]
    },
    {
      "cell_type": "code",
      "metadata": {
        "colab": {
          "base_uri": "https://localhost:8080/"
        },
        "id": "HQA_5fJFm-HD",
        "outputId": "33b2ce7c-8304-4d23-f3e5-e7f2aa2fe9d3"
      },
      "source": [
        "print('            JKN SUPER MARKET')\n",
        "print('---------------------------------------')\n",
        "print('            INVOICE DETAILS')\n",
        "ip_prod  = str(input(\"ENTER THE PRODUCT ID: \"))\n",
        "ip_quant = int(input(\"ENTER THE QUANTITY: \"))\n",
        "\n",
        "\n",
        "print(\"PRODUCT: \", record[ip_prod]['name'])\n",
        "print(\"PRICE:\", record[ip_prod]['pr'])\n",
        "print(\"PRODUCT RATING: \", record[ip_prod]['rt'])\n",
        "print(\"****************************\")\n",
        "print(\"TOTAL AMOUNT: \", record[ip_prod]['pr'] * ip_quant)\n",
        "print(\"****************************\")\n",
        "print(\"        ###THANK U VISIT AGAIN ###\")\n",
        "print(\"             HAVE A GREAT DAY\")\n",
        "\n",
        "\n",
        "\n",
        "record[ip_prod]['qn'] = record[ip_prod]['qn'] - ip_quant"
      ],
      "execution_count": 46,
      "outputs": [
        {
          "output_type": "stream",
          "name": "stdout",
          "text": [
            "            JKN SUPER MARKET\n",
            "---------------------------------------\n",
            "            INVOICE DETAILS\n",
            "ENTER THE PRODUCT ID: 6009\n",
            "ENTER THE QUANTITY: 10\n",
            "PRODUCT:  Corn flour\n",
            "PRICE: 34\n",
            "PRODUCT RATING:  8\n",
            "****************************\n",
            "TOTAL AMOUNT:  340\n",
            "****************************\n",
            "        ###THANK U VISIT AGAIN ###\n",
            "             HAVE A GREAT DAY\n"
          ]
        }
      ]
    },
    {
      "cell_type": "markdown",
      "metadata": {
        "id": "2gk_ymoZrh1-"
      },
      "source": [
        "###UPDATE INVENTORY AFTER PURCHSING \n"
      ]
    },
    {
      "cell_type": "code",
      "metadata": {
        "id": "b68hHpTprlzc"
      },
      "source": [
        "sales = {1 : {'prod':ip_prod, 'qn':ip_quant, 'pr':record[ip_prod]['pr']*ip_quant}}\n",
        "sal = json.dumps(sales)\n",
        "\n",
        "fd = open(\"sales.json\",'w')\n",
        "fd.write(sal)\n",
        "fd.close()"
      ],
      "execution_count": 47,
      "outputs": []
    },
    {
      "cell_type": "code",
      "metadata": {
        "id": "Ns8wB_XFt3zL",
        "outputId": "fd9e7735-6b4b-4fc8-9967-42d25f1acf87",
        "colab": {
          "base_uri": "https://localhost:8080/"
        }
      },
      "source": [
        "sales"
      ],
      "execution_count": 48,
      "outputs": [
        {
          "output_type": "execute_result",
          "data": {
            "text/plain": [
              "{1: {'pr': 340, 'prod': '6009', 'qn': 10}}"
            ]
          },
          "metadata": {},
          "execution_count": 48
        }
      ]
    },
    {
      "cell_type": "code",
      "metadata": {
        "id": "StXiUEGAuGWi",
        "outputId": "67610bd0-ef04-4c7e-c5b1-2649efe4d5fa",
        "colab": {
          "base_uri": "https://localhost:8080/"
        }
      },
      "source": [
        "record"
      ],
      "execution_count": 49,
      "outputs": [
        {
          "output_type": "execute_result",
          "data": {
            "text/plain": [
              "{'6001': {'name': 'Sunflroil', 'pr': 140, 'qn': 35, 'rt': 7},\n",
              " '6002': {'name': 'Almond', 'pr': 150, 'qn': 65, 'rt': 5},\n",
              " '6003': {'name': 'Basmati', 'pr': 210, 'qn': 50, 'rt': 9},\n",
              " '6004': {'name': 'Cardomom', 'pr': 600, 'qn': 15, 'rt': 6},\n",
              " '6005': {'name': 'Cashewnet', 'pr': 120, 'qn': 27, 'rt': 5},\n",
              " '6006': {'name': 'castor oil', 'pr': 220, 'qn': 10, 'rt': 5},\n",
              " '6007': {'name': 'Chilli powder', 'pr': 70, 'qn': 7, 'rt': 6},\n",
              " '6008': {'name': 'Cocunut oil', 'pr': 305, 'qn': 7, 'rt': 8},\n",
              " '6009': {'name': 'Corn flour', 'pr': 34, 'qn': 0, 'rt': 8},\n",
              " '6010': {'name': 'Cumin', 'pr': 50, 'qn': 33, 'rt': 7},\n",
              " '6011': {'name': 'Cumin powder', 'pr': 60, 'qn': 20, 'rt': 6},\n",
              " '6012': {'name': 'Ginger paste', 'pr': 22, 'qn': 122, 'rt': 7},\n",
              " '6013': {'name': 'Groundnut', 'pr': 75, 'qn': 43, 'rt': 7},\n",
              " '6014': {'name': 'Honey', 'pr': 99, 'qn': 17, 'rt': 8},\n",
              " '6015': {'name': 'Jaggery', 'pr': 70, 'qn': 22, 'rt': 7},\n",
              " '6016': {'name': 'Karuppati', 'pr': 275, 'qn': 30, 'rt': 8},\n",
              " '6017': {'name': 'Rice flour', 'pr': 75, 'qn': 44, 'rt': 8},\n",
              " '6018': {'name': 'salt', 'pr': 20, 'qn': 70, 'rt': 7},\n",
              " '6019': {'name': 'Sugar', 'pr': 46, 'qn': 69, 'rt': 7},\n",
              " '6020': {'name': 'Tamarind', 'pr': 150, 'qn': 61, 'rt': 8},\n",
              " '6021': {'name': 'Tamarind powder', 'pr': 25, 'qn': 38, 'rt': 7},\n",
              " '6022': {'name': 'Wheat atta', 'pr': 57, 'qn': 28, 'rt': 8},\n",
              " '6023': {'name': 'Tamarind paste ', 'pr': 46, 'qn': 12, 'rt': 8},\n",
              " '6024': {'name': 'Raagi', 'pr': 100, 'qn': 30, 'rt': 8},\n",
              " '6025': {'name': 'Sambar powder', 'pr': 50, 'qn': 100, 'rt': 9},\n",
              " '6026': {'name': 'Rasam powder', 'pr': 46, 'qn': 27, 'rt': 8},\n",
              " '6027': {'name': 'Moong Dal ', 'pr': 185, 'qn': 21, 'rt': 8},\n",
              " '6028': {'name': 'Idly rice ', 'pr': 85, 'qn': 66, 'rt': 8},\n",
              " '6029': {'name': 'garam masala ', 'pr': 85, 'qn': 22, 'rt': 8},\n",
              " '6030': {'name': 'Clove', 'pr': 85, 'qn': 16, 'rt': 7}}"
            ]
          },
          "metadata": {},
          "execution_count": 49
        }
      ]
    }
  ]
}